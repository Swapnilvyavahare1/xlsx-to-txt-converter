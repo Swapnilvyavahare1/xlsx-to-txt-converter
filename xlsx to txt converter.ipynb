{
 "cells": [
  {
   "cell_type": "code",
   "execution_count": 1,
   "id": "23be33a4",
   "metadata": {},
   "outputs": [],
   "source": [
    "import pandas as pd\n",
    "\n",
    "def xlsx_to_txt(xlsx_file, txt_file):\n",
    "    # Load the Excel file into a pandas DataFrame\n",
    "    df = pd.read_excel(xlsx_file)\n",
    "    \n",
    "    # Convert DataFrame to a tab-separated string\n",
    "    data_str = df.to_csv(index=False, sep='\\t')\n",
    "    \n",
    "    # Write the data string to a text file\n",
    "    with open(txt_file, 'w') as file:\n",
    "        file.write(data_str)\n",
    "\n",
    "# Example usage\n",
    "xlsx_file = 'Datainsights numbers.xlsx'\n",
    "txt_file = 'output.txt'\n",
    "xlsx_to_txt(xlsx_file, txt_file)"
   ]
  }
 ],
 "metadata": {
  "kernelspec": {
   "display_name": "Python 3 (ipykernel)",
   "language": "python",
   "name": "python3"
  },
  "language_info": {
   "codemirror_mode": {
    "name": "ipython",
    "version": 3
   },
   "file_extension": ".py",
   "mimetype": "text/x-python",
   "name": "python",
   "nbconvert_exporter": "python",
   "pygments_lexer": "ipython3",
   "version": "3.9.12"
  }
 },
 "nbformat": 4,
 "nbformat_minor": 5
}
